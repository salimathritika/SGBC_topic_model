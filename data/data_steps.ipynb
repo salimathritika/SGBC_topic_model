{
 "cells": [
  {
   "cell_type": "code",
   "execution_count": null,
   "id": "f14a964a",
   "metadata": {},
   "outputs": [],
   "source": [
    "# https://pmc.ncbi.nlm.nih.gov/tools/ftp/\n",
    "# https://ftp.ncbi.nlm.nih.gov/pub/pmc/readme.txt\n",
    "jlist_url='https://ftp.ncbi.nlm.nih.gov/pub/pmc/jlist.csv'"
   ]
  },
  {
   "cell_type": "code",
   "execution_count": 28,
   "id": "31cab02e",
   "metadata": {},
   "outputs": [],
   "source": [
    "entrez_journals_url = 'https://ftp.ncbi.nih.gov/pubmed/J_Entrez.txt'"
   ]
  },
  {
   "cell_type": "code",
   "execution_count": null,
   "id": "6724bd5f",
   "metadata": {},
   "outputs": [],
   "source": [
    "import fsspec"
   ]
  },
  {
   "cell_type": "code",
   "execution_count": 32,
   "id": "907d1a80",
   "metadata": {},
   "outputs": [
    {
     "name": "stdout",
     "output_type": "stream",
     "text": [
      "Collecting aiohttp\n",
      "  Downloading aiohttp-3.12.13-cp312-cp312-manylinux_2_17_x86_64.manylinux2014_x86_64.whl.metadata (7.6 kB)\n",
      "Collecting aiohappyeyeballs>=2.5.0 (from aiohttp)\n",
      "  Downloading aiohappyeyeballs-2.6.1-py3-none-any.whl.metadata (5.9 kB)\n",
      "Collecting aiosignal>=1.1.2 (from aiohttp)\n",
      "  Downloading aiosignal-1.4.0-py3-none-any.whl.metadata (3.7 kB)\n",
      "Requirement already satisfied: attrs>=17.3.0 in /home/codespace/.local/lib/python3.12/site-packages (from aiohttp) (25.3.0)\n",
      "Collecting frozenlist>=1.1.1 (from aiohttp)\n",
      "  Downloading frozenlist-1.7.0-cp312-cp312-manylinux_2_5_x86_64.manylinux1_x86_64.manylinux_2_17_x86_64.manylinux2014_x86_64.whl.metadata (18 kB)\n",
      "Collecting multidict<7.0,>=4.5 (from aiohttp)\n",
      "  Downloading multidict-6.6.3-cp312-cp312-manylinux2014_x86_64.manylinux_2_17_x86_64.manylinux_2_28_x86_64.whl.metadata (5.3 kB)\n",
      "Collecting propcache>=0.2.0 (from aiohttp)\n",
      "  Downloading propcache-0.3.2-cp312-cp312-manylinux_2_17_x86_64.manylinux2014_x86_64.whl.metadata (12 kB)\n",
      "Collecting yarl<2.0,>=1.17.0 (from aiohttp)\n",
      "  Downloading yarl-1.20.1-cp312-cp312-manylinux_2_17_x86_64.manylinux2014_x86_64.whl.metadata (73 kB)\n",
      "Requirement already satisfied: idna>=2.0 in /home/codespace/.local/lib/python3.12/site-packages (from yarl<2.0,>=1.17.0->aiohttp) (3.10)\n",
      "Requirement already satisfied: typing-extensions>=4.2 in /home/codespace/.local/lib/python3.12/site-packages (from aiosignal>=1.1.2->aiohttp) (4.14.0)\n",
      "Downloading aiohttp-3.12.13-cp312-cp312-manylinux_2_17_x86_64.manylinux2014_x86_64.whl (1.7 MB)\n",
      "\u001b[2K   \u001b[90m━━━━━━━━━━━━━━━━━━━━━━━━━━━━━━━━━━━━━━━━\u001b[0m \u001b[32m1.7/1.7 MB\u001b[0m \u001b[31m9.3 MB/s\u001b[0m eta \u001b[36m0:00:00\u001b[0ma \u001b[36m0:00:01\u001b[0m\n",
      "\u001b[?25hDownloading multidict-6.6.3-cp312-cp312-manylinux2014_x86_64.manylinux_2_17_x86_64.manylinux_2_28_x86_64.whl (256 kB)\n",
      "Downloading yarl-1.20.1-cp312-cp312-manylinux_2_17_x86_64.manylinux2014_x86_64.whl (355 kB)\n",
      "Downloading aiohappyeyeballs-2.6.1-py3-none-any.whl (15 kB)\n",
      "Downloading aiosignal-1.4.0-py3-none-any.whl (7.5 kB)\n",
      "Downloading frozenlist-1.7.0-cp312-cp312-manylinux_2_5_x86_64.manylinux1_x86_64.manylinux_2_17_x86_64.manylinux2014_x86_64.whl (241 kB)\n",
      "Downloading propcache-0.3.2-cp312-cp312-manylinux_2_17_x86_64.manylinux2014_x86_64.whl (224 kB)\n",
      "Installing collected packages: propcache, multidict, frozenlist, aiohappyeyeballs, yarl, aiosignal, aiohttp\n",
      "\u001b[2K   \u001b[90m━━━━━━━━━━━━━━━━━━━━━━━━━━━━━━━━━━━━━━━━\u001b[0m \u001b[32m7/7\u001b[0m [aiohttp]m6/7\u001b[0m [aiohttp]\n",
      "\u001b[1A\u001b[2KSuccessfully installed aiohappyeyeballs-2.6.1 aiohttp-3.12.13 aiosignal-1.4.0 frozenlist-1.7.0 multidict-6.6.3 propcache-0.3.2 yarl-1.20.1\n"
     ]
    }
   ],
   "source": [
    "!pip install aiohttp"
   ]
  },
  {
   "cell_type": "code",
   "execution_count": 34,
   "id": "cde9469d",
   "metadata": {},
   "outputs": [],
   "source": [
    "entrez_lines = fsspec.open(entrez_journals_url).open().readlines()"
   ]
  },
  {
   "cell_type": "code",
   "execution_count": 58,
   "id": "5f9a5d46",
   "metadata": {},
   "outputs": [
    {
     "data": {
      "text/plain": [
       "[b'--------------------------------------------------------\\n',\n",
       " b'JrId: 1\\n',\n",
       " b\"JournalTitle: AADE editors' journal\\n\",\n",
       " b'MedAbbr: AADE Ed J\\n',\n",
       " b'ISSN (Print): 0160-6999\\n',\n",
       " b'ISSN (Online): \\n',\n",
       " b'IsoAbbr: AADE Ed J\\n',\n",
       " b'NlmId: 7708172\\n',\n",
       " b'--------------------------------------------------------\\n',\n",
       " b'JrId: 2\\n']"
      ]
     },
     "execution_count": 58,
     "metadata": {},
     "output_type": "execute_result"
    }
   ],
   "source": [
    "entrez_lines[:10]"
   ]
  },
  {
   "cell_type": "code",
   "execution_count": 76,
   "id": "e1a60995",
   "metadata": {},
   "outputs": [],
   "source": [
    "entrez_sel = []\n",
    "for line in entrez_lines:\n",
    "\n",
    "    if 'IsoAbbr:' in str(line):\n",
    "        val = str(line)[11:-3]\n",
    "        if 'neuro' in val.lower() or 'brain' in val.lower():\n",
    "            entrez_sel.append(val)\n",
    "            \n"
   ]
  },
  {
   "cell_type": "code",
   "execution_count": 77,
   "id": "fc0b5238",
   "metadata": {},
   "outputs": [
    {
     "data": {
      "text/plain": [
       "861"
      ]
     },
     "execution_count": 77,
     "metadata": {},
     "output_type": "execute_result"
    }
   ],
   "source": [
    "len(entrez_sel)"
   ]
  },
  {
   "cell_type": "code",
   "execution_count": 81,
   "id": "fa6740b7",
   "metadata": {},
   "outputs": [
    {
     "data": {
      "text/plain": [
       "'AJNR Am J Neuroradiol'"
      ]
     },
     "execution_count": 81,
     "metadata": {},
     "output_type": "execute_result"
    }
   ],
   "source": [
    "entrez_sel[18]"
   ]
  },
  {
   "cell_type": "code",
   "execution_count": null,
   "id": "75b9aeb5",
   "metadata": {},
   "outputs": [],
   "source": [
    "from xml.etree import ElementTree as ET\n",
    "import requests\n",
    "\n",
    "def get_pmids(jname, yr=2024, retstart=0):\n",
    "    # https://www.ncbi.nlm.nih.gov/books/NBK25500/\n",
    "    searchurl = 'https://eutils.ncbi.nlm.nih.gov/entrez/eutils/esearch.fcgi?db=pubmed&term=\"%s\"[ta]+AND+%d[pdat]&retstart=%d&retmax=100'\n",
    "    \n",
    "    actualurl = searchurl % (jname, yr, retstart)\n",
    "    print(actualurl)\n",
    "    resp = requests.get(actualurl)\n",
    "    \n",
    "    root = ET.fromstring(resp.text)\n",
    "    \n",
    "    cnt = int(root.findall('.//Count')[0].text)\n",
    "    \n",
    "    pmids = []\n",
    "    for ch in root.findall('.//IdList/'):\n",
    "        pmids.append(ch.text)\n",
    "    \n",
    "    if retstart+100 > cnt: # no more calls\n",
    "        return pmids\n",
    "    \n",
    "    else:\n",
    "        return pmids + get_pmids(jname, yr, retstart+100)\n",
    "    \n"
   ]
  },
  {
   "cell_type": "code",
   "execution_count": 88,
   "id": "4397b65f",
   "metadata": {},
   "outputs": [
    {
     "name": "stdout",
     "output_type": "stream",
     "text": [
      "https://eutils.ncbi.nlm.nih.gov/entrez/eutils/esearch.fcgi?db=pubmed&term=\"AJNR Am J Neuroradiol\"[ta]+AND+2024[pdat]&retstart=0&retmax=100\n"
     ]
    },
    {
     "ename": "IndexError",
     "evalue": "list index out of range",
     "output_type": "error",
     "traceback": [
      "\u001b[31m---------------------------------------------------------------------------\u001b[39m",
      "\u001b[31mIndexError\u001b[39m                                Traceback (most recent call last)",
      "\u001b[36mCell\u001b[39m\u001b[36m \u001b[39m\u001b[32mIn[88]\u001b[39m\u001b[32m, line 1\u001b[39m\n\u001b[32m----> \u001b[39m\u001b[32m1\u001b[39m pmids=\u001b[43mget_pmids\u001b[49m\u001b[43m(\u001b[49m\u001b[43mentrez_sel\u001b[49m\u001b[43m[\u001b[49m\u001b[32;43m18\u001b[39;49m\u001b[43m]\u001b[49m\u001b[43m,\u001b[49m\u001b[32;43m2024\u001b[39;49m\u001b[43m)\u001b[49m\n",
      "\u001b[36mCell\u001b[39m\u001b[36m \u001b[39m\u001b[32mIn[87]\u001b[39m\u001b[32m, line 14\u001b[39m, in \u001b[36mget_pmids\u001b[39m\u001b[34m(jname, yr, retstart)\u001b[39m\n\u001b[32m     10\u001b[39m resp = requests.get(actualurl)\n\u001b[32m     12\u001b[39m root = ET.fromstring(resp.text)\n\u001b[32m---> \u001b[39m\u001b[32m14\u001b[39m cnt = \u001b[38;5;28mint\u001b[39m(\u001b[43mroot\u001b[49m\u001b[43m.\u001b[49m\u001b[43mfindall\u001b[49m\u001b[43m(\u001b[49m\u001b[33;43m'\u001b[39;49m\u001b[33;43m.//Count\u001b[39;49m\u001b[33;43m'\u001b[39;49m\u001b[43m)\u001b[49m\u001b[43m[\u001b[49m\u001b[32;43m0\u001b[39;49m\u001b[43m]\u001b[49m.text)\n\u001b[32m     16\u001b[39m pmids = []\n\u001b[32m     17\u001b[39m \u001b[38;5;28;01mfor\u001b[39;00m ch \u001b[38;5;129;01min\u001b[39;00m root.findall(\u001b[33m'\u001b[39m\u001b[33m.//IdList/\u001b[39m\u001b[33m'\u001b[39m):\n",
      "\u001b[31mIndexError\u001b[39m: list index out of range"
     ]
    }
   ],
   "source": [
    "pmids=get_pmids(entrez_sel[18],2024)"
   ]
  },
  {
   "cell_type": "markdown",
   "id": "82786fca",
   "metadata": {},
   "source": [
    "## using pmc"
   ]
  },
  {
   "cell_type": "code",
   "execution_count": 35,
   "id": "83ccd62d",
   "metadata": {},
   "outputs": [],
   "source": [
    "jlist_lines = fsspec.open(jlist_url).open().readlines()"
   ]
  },
  {
   "cell_type": "code",
   "execution_count": 36,
   "id": "6e944b0a",
   "metadata": {},
   "outputs": [
    {
     "data": {
      "text/plain": [
       "[b'Journal title,NLM TA,pISSN,eISSN,Publisher,LOCATORplus ID,Latest issue,Earliest volume,Free access,Open access,Participation level, Deposit status, Journal URL\\n',\n",
       " b'\"3 Biotech\",\"3 Biotech\",\"2190-572X\",\"2190-5738\",\"Springer\",\"101565857\",\"v.15(5);May 2025\",\"v.1;2011\",\"12 months\",\"Some\",\" Full \",\" \",http://www.ncbi.nlm.nih.gov/pmc/journals/1811/\\n',\n",
       " b'\"3D Printing and Additive Manufacturing\",\"3D Print Addit Manuf\",\"2329-7662\",\"2329-7670\",\"Mary Ann Liebert, Inc.\",\"101649453\",\"v.12(2);Apr 2025\",\"v.7;2020\",\"12 months\",\"Some\",\" Full \",\" \",http://www.ncbi.nlm.nih.gov/pmc/journals/4318/\\n',\n",
       " b'\"3D Printing in Medicine\",\"3D Print Med\",\"\",\"2365-6271\",\"BMC\",\"101721758\",\"v.10;Dec 2024\",\"v.2;2016\",\"Immediate\",\"All\",\" Full \",\" \",http://www.ncbi.nlm.nih.gov/pmc/journals/3516/\\n',\n",
       " b'\"AACE Clinical Case Reports\",\"AACE Clin Case Rep\",\"\",\"2376-0605\",\"American Association of Clinical Endocrinology\",\"101670593\",\"v.11(2);Mar-Apr 2025\",\"v.3;2017\",\"Immediate\",\"Some\",\" Full \",\" \",http://www.ncbi.nlm.nih.gov/pmc/journals/3582/\\n']"
      ]
     },
     "execution_count": 36,
     "metadata": {},
     "output_type": "execute_result"
    }
   ],
   "source": [
    "jlist_lines[:5]"
   ]
  },
  {
   "cell_type": "code",
   "execution_count": 39,
   "id": "37967324",
   "metadata": {},
   "outputs": [],
   "source": [
    "heading = str(jlist_lines[0]).strip().split(',')\n",
    "jlist = [str(x).split(',') for x in jlist_lines[1:]]"
   ]
  },
  {
   "cell_type": "code",
   "execution_count": 43,
   "id": "111bc7cb",
   "metadata": {},
   "outputs": [],
   "source": [
    "selected = []\n",
    "for rec in jlist:\n",
    "    if 'neuro' in rec[1].lower() or 'brain' in rec[1].lower():\n",
    "        selected.append(rec[1].strip('\"'))"
   ]
  },
  {
   "cell_type": "code",
   "execution_count": 44,
   "id": "3f08b68c",
   "metadata": {},
   "outputs": [
    {
     "data": {
      "text/plain": [
       "195"
      ]
     },
     "execution_count": 44,
     "metadata": {},
     "output_type": "execute_result"
    }
   ],
   "source": [
    "len(selected)"
   ]
  },
  {
   "cell_type": "code",
   "execution_count": 45,
   "id": "134edfd1",
   "metadata": {},
   "outputs": [
    {
     "data": {
      "text/plain": [
       "['ACS Chem Neurosci',\n",
       " 'Acta Neuropathol Commun',\n",
       " 'Aging Brain',\n",
       " 'AIMS Neurosci',\n",
       " 'AJNR Am J Neuroradiol',\n",
       " 'Am J Neurodegener Dis',\n",
       " 'Ann Clin Transl Neurol',\n",
       " 'Ann Indian Acad Neurol',\n",
       " 'Ann Neurosci',\n",
       " 'Arch Clin Neuropsychol',\n",
       " 'Arq Neuropsiquiatr',\n",
       " 'Asian J Neurosurg',\n",
       " 'ASN Neuro',\n",
       " 'Audiol Neurootol',\n",
       " 'Basic Clin Neurosci',\n",
       " 'Behav Brain Funct',\n",
       " 'Behav Neurol',\n",
       " 'BMC Neurol',\n",
       " 'BMC Neurosci',\n",
       " 'BMJ Neurol Open',\n",
       " 'Brain',\n",
       " 'Brain Behav',\n",
       " 'Brain Circ',\n",
       " 'Brain Commun',\n",
       " 'Brain Connect',\n",
       " 'Brain Inform',\n",
       " 'Brain Neurorehabil',\n",
       " 'Brain Neurosci Adv',\n",
       " 'Brain Pathol',\n",
       " 'Brain Plast',\n",
       " 'Brain Sci',\n",
       " 'Brain Spine',\n",
       " 'Brain Tumor Res Treat',\n",
       " 'Cardiovasc Psychiatry Neurol',\n",
       " 'Case Rep Neurol',\n",
       " 'Case Rep Neurol Med',\n",
       " 'Cell Mol Neurobiol',\n",
       " 'Child Neurol Open',\n",
       " 'Chin Neurosurg J',\n",
       " 'Clin Neuropathol',\n",
       " 'Clin Neurophysiol Pract',\n",
       " 'Clin Neuropsychiatry',\n",
       " 'Clin Psychopharmacol Neurosci',\n",
       " 'CNS Neurosci Ther',\n",
       " 'Cogn Neurodyn',\n",
       " 'Compr Psychoneuroendocrinol',\n",
       " 'Comput Intell Neurosci',\n",
       " 'Curr J Neurol',\n",
       " 'Curr Neuropharmacol',\n",
       " 'Curr Res Neurobiol',\n",
       " 'Degener Neurol Neuromuscul Dis',\n",
       " 'Dement Neurocogn Disord',\n",
       " 'Dement Neuropsychol',\n",
       " 'Dev Cogn Neurosci',\n",
       " 'Dev Neurosci',\n",
       " 'Dialogues Clin Neurosci',\n",
       " 'eNeuro',\n",
       " 'eNeurologicalSci',\n",
       " 'Eur J Neurol',\n",
       " 'Eur Neurol',\n",
       " 'Exp Neurobiol',\n",
       " 'Eye Brain',\n",
       " 'Free Neuropathol',\n",
       " 'Front Aging Neurosci',\n",
       " 'Front Behav Neurosci',\n",
       " 'Front Cell Neurosci',\n",
       " 'Front Comput Neurosci',\n",
       " 'Front Evol Neurosci',\n",
       " 'Front Hum Neurosci',\n",
       " 'Front Integr Neurosci',\n",
       " 'Front Mol Neurosci',\n",
       " 'Front Neuroanat',\n",
       " 'Front Neuroenergetics',\n",
       " 'Front Neuroeng',\n",
       " 'Front Neuroergon',\n",
       " 'Front Neuroimaging',\n",
       " 'Front Neuroinform',\n",
       " 'Front Neurol',\n",
       " 'Front Neurorobot',\n",
       " 'Front Neurosci',\n",
       " 'Front Synaptic Neurosci',\n",
       " 'Front Syst Neurosci',\n",
       " 'Funct Neurol',\n",
       " ' Brain',\n",
       " 'Hum Brain Mapp',\n",
       " 'Ibrain',\n",
       " 'IBRO Neurosci Rep',\n",
       " 'Innov Clin Neurosci',\n",
       " 'Int J Neuropsychopharmacol',\n",
       " 'Int Neurourol J',\n",
       " 'Interv Neurol',\n",
       " 'Interv Neuroradiol',\n",
       " 'Iran J Child Neurol',\n",
       " 'Iran J Neurol',\n",
       " 'ISRN Neurol',\n",
       " 'ISRN Neurosci',\n",
       " 'J Brain Dis',\n",
       " 'J Cerebrovasc Endovasc Neurosurg',\n",
       " 'J Exp Neurosci',\n",
       " 'J Korean Neurosurg Soc',\n",
       " 'J Math Neurosci',\n",
       " 'J Musculoskelet Neuronal Interact',\n",
       " 'J Neurodegener Dis',\n",
       " 'J Neurodev Disord',\n",
       " 'J Neuroendovasc Ther',\n",
       " 'J Neuroeng Rehabil',\n",
       " 'J Neurogastroenterol Motil',\n",
       " 'J Neuroinflammation',\n",
       " ' Neurosurgery',\n",
       " 'J Neurol Psychiatry',\n",
       " 'J Neurol Psychopathol',\n",
       " 'J Neurol Surg Rep',\n",
       " 'J Neuropathol Exp Neurol',\n",
       " 'J Neurophysiol',\n",
       " 'J Neurosci',\n",
       " 'J Neurosci Rural Pract',\n",
       " 'J Neurosurg Case Lessons',\n",
       " 'J Neurotrauma',\n",
       " 'J Pediatr Neurosci',\n",
       " 'J Psychiatry Neurosci',\n",
       " 'J Undergrad Neurosci Educ',\n",
       " 'J Vasc Interv Neurol',\n",
       " 'Korean J Neurotrauma',\n",
       " 'Mol Brain',\n",
       " 'Mol Neurodegener',\n",
       " 'Mol Neuropsychiatry',\n",
       " 'Netw Neurosci',\n",
       " 'Neuro Oncol',\n",
       " 'Neurobiol Lang (Camb)',\n",
       " 'Neurobiol Pain',\n",
       " 'Neurobiol Sleep Circadian Rhythms',\n",
       " 'Neurobiol Stress',\n",
       " 'Neurodegener Dis',\n",
       " 'Neurodegener Dis Manag',\n",
       " 'Neuroembryology Aging',\n",
       " 'Neuroendocrinology',\n",
       " 'Neuroepidemiology',\n",
       " 'Neurogenesis (Austin)',\n",
       " 'Neurohospitalist',\n",
       " 'Neuroimage Clin',\n",
       " 'Neuroimmunomodulation',\n",
       " 'Neurointervention',\n",
       " 'Neurol Clin Pract',\n",
       " 'Neurol Educ',\n",
       " 'Neurol Genet',\n",
       " 'Neurol Int',\n",
       " 'Neurol Med Chir (Tokyo)',\n",
       " 'Neurol Neuroimmunol Neuroinflamm',\n",
       " 'Neurol Res Int',\n",
       " 'Neurol Res Pract',\n",
       " 'Neurol Ther',\n",
       " 'Neurology',\n",
       " 'Neuronal Signal',\n",
       " 'Neurooncol Adv',\n",
       " 'Neurooncol Pract',\n",
       " 'Neuroophthalmology',\n",
       " 'Neurophotonics',\n",
       " 'Neuropsychiatr Dis Treat',\n",
       " 'Neuropsychobiology',\n",
       " 'Neuropsychopharmacol Rep',\n",
       " 'Neuropsychopharmacology',\n",
       " 'Neuroradiol J',\n",
       " 'NeuroRx',\n",
       " 'NeuroSci',\n",
       " 'Neurosci Bull',\n",
       " 'Neurosci Conscious',\n",
       " 'Neurosci Insights',\n",
       " 'Neurosci J',\n",
       " 'Neurosciences (Riyadh)',\n",
       " 'Neurosignals',\n",
       " 'Neurospine',\n",
       " 'Neurosurg Focus Video',\n",
       " 'Neurosurg Pract',\n",
       " 'Neurosurgery',\n",
       " 'Neurotherapeutics',\n",
       " 'Neurotrauma Rep',\n",
       " 'Open Neuroimag J',\n",
       " 'Open Neurol J',\n",
       " 'Oper Neurosurg (Hagerstown)',\n",
       " 'Otol Neurotol Open',\n",
       " 'Oxf Open Neurosci',\n",
       " 'Pediatr Neurol Briefs',\n",
       " 'Pediatr Neurosurg',\n",
       " 'Personal Neurosci',\n",
       " 'Postep Psychiatr Neurol',\n",
       " 'Rev Neurol',\n",
       " 'Soc Cogn Affect Neurosci',\n",
       " 'Socioaffect Neurosci Psychol',\n",
       " 'Stereotact Funct Neurosurg',\n",
       " 'Stroke Vasc Neurol',\n",
       " 'Surg Neurol Int',\n",
       " 'Ther Adv Neurol Disord',\n",
       " 'Transl Neurodegener',\n",
       " 'Transl Neurosci',\n",
       " 'World Neurosurg X']"
      ]
     },
     "execution_count": 45,
     "metadata": {},
     "output_type": "execute_result"
    }
   ],
   "source": [
    "selected"
   ]
  },
  {
   "cell_type": "code",
   "execution_count": null,
   "id": "df24c5c0",
   "metadata": {},
   "outputs": [],
   "source": []
  }
 ],
 "metadata": {
  "kernelspec": {
   "display_name": "Python 3",
   "language": "python",
   "name": "python3"
  },
  "language_info": {
   "codemirror_mode": {
    "name": "ipython",
    "version": 3
   },
   "file_extension": ".py",
   "mimetype": "text/x-python",
   "name": "python",
   "nbconvert_exporter": "python",
   "pygments_lexer": "ipython3",
   "version": "3.12.1"
  }
 },
 "nbformat": 4,
 "nbformat_minor": 5
}
